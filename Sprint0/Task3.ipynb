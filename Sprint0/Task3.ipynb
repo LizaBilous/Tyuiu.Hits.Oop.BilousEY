{
 "cells": [
  {
   "cell_type": "markdown",
   "metadata": {},
   "source": [
    "<h1 style=\"color:DodgerBlue\">Индивидальный проект</h1>"
   ]
  },
  {
   "cell_type": "markdown",
   "metadata": {},
   "source": [
    "<h2 style=\"color:DodgerBlue\">Название проекта:</h2>\n",
    "\n",
    "----\n",
    "\n",
    "### Вариант задания 3\n"
   ]
  },
  {
   "cell_type": "markdown",
   "metadata": {},
   "source": [
    "<h2 style=\"color:DodgerBlue\">Описание проекта:</h2>\n",
    "\n",
    "----\n",
    "\n",
    "[Описание задачи:\n",
    "Создать базовый класс Employee в C#, который будет представлять информацию о\n",
    "сотрудниках компании. На основе этого класса разработать 2-3 производных\n",
    "класса, демонстрирующих принципы наследования и полиморфизма. В каждом из\n",
    "классов должны быть реализованы новые атрибуты и методы, а также\n",
    "переопределены некоторые методы базового класса для демонстрации\n",
    "полиморфизма.]\n"
   ]
  },
  {
   "cell_type": "markdown",
   "metadata": {},
   "source": [
    "<h2 style=\"color:DodgerBlue\">Реализация:</h2>\n",
    "\n",
    "----"
   ]
  },
  {
   "cell_type": "code",
   "execution_count": 9,
   "metadata": {
    "dotnet_interactive": {
     "language": "csharp"
    },
    "polyglot_notebook": {
     "kernelName": "csharp"
    }
   },
   "outputs": [
    {
     "name": "stdout",
     "output_type": "stream",
     "text": [
      "Имя: Элиз Бентли, Возраст: 39, Зарплата: 90000\n",
      "Сотрудник выполняет свои трудовые обязанности.\n",
      "Менеджер управляет командой из 10 работник.\n",
      "Имя: Томас Мюллер, Возраст: 37, Зарплата: 70000\n",
      "Сотрудник уходит в отпуск.\n",
      "Разработчику необходимо согласовать отпуск со сроками реализации проекта.\n",
      "Имя: Катрин Денёв, Возраст: 48, Зарплата: 65000\n",
      "Сотрудник выполняет свои трудовые обязанности.\n",
      "Дизайнер работает над дизайн-проектами в Модерн стиль.\n"
     ]
    }
   ],
   "source": [
    "public class Employee\n",
    "{\n",
    "    public string Name { get; set; }\n",
    "    public int Age { get; set; }\n",
    "    public decimal Salary { get; set; }\n",
    "\n",
    "    public virtual string GetInfo()\n",
    "    {\n",
    "        return $\"Имя: {Name}, Возраст: {Age}, Зарплата: {Salary}\";\n",
    "    }\n",
    "\n",
    "    public virtual void Work()\n",
    "    {\n",
    "        Console.WriteLine(\"Сотрудник выполняет свои трудовые обязанности.\");\n",
    "    }\n",
    "\n",
    "    public virtual void TakeVacation()\n",
    "    {\n",
    "        Console.WriteLine(\"Сотрудник уходит в отпуск.\");\n",
    "    }\n",
    "}\n",
    "\n",
    "public class Manager : Employee\n",
    "{\n",
    "    public int SubordinatesCount { get; set; }\n",
    "\n",
    "    public override void Work()\n",
    "    {\n",
    "        base.Work();\n",
    "        Console.WriteLine($\"Менеджер управляет командой из {SubordinatesCount} работник.\");\n",
    "    }\n",
    "}\n",
    "\n",
    "public class Developer : Employee\n",
    "{\n",
    "    public string Specialization { get; set; }\n",
    "\n",
    "    public override void TakeVacation()\n",
    "    {\n",
    "        base.TakeVacation();\n",
    "        Console.WriteLine(\"Разработчику необходимо согласовать отпуск со сроками реализации проекта.\");\n",
    "    }\n",
    "}\n",
    "\n",
    "public class Designer : Employee\n",
    "{\n",
    "    public string DesignStyle { get; set; }\n",
    "\n",
    "    public override void Work()\n",
    "    {\n",
    "        base.Work();\n",
    "        Console.WriteLine($\"Дизайнер работает над дизайн-проектами в {DesignStyle} стиль.\");\n",
    "    }\n",
    "}\n",
    "\n",
    "         Manager manager = new Manager\n",
    "        {\n",
    "            Name = \"Элиз Бентли\",\n",
    "            Age = 39,\n",
    "            Salary = 90000,\n",
    "            SubordinatesCount = 10\n",
    "        };\n",
    "\n",
    "        Developer developer = new Developer\n",
    "        {\n",
    "            Name = \"Томас Мюллер\",\n",
    "            Age = 37,\n",
    "            Salary = 70000,\n",
    "            Specialization = \"Веб-разработка\"\n",
    "        };\n",
    "\n",
    "        Designer designer = new Designer\n",
    "        {\n",
    "            Name = \"Катрин Денёв\",\n",
    "            Age = 48,\n",
    "            Salary = 65000,\n",
    "            DesignStyle = \"Модерн\"\n",
    "        };\n",
    "\n",
    "        Console.WriteLine(manager.GetInfo());\n",
    "        manager.Work();\n",
    "\n",
    "        Console.WriteLine(developer.GetInfo());\n",
    "        developer.TakeVacation();\n",
    "\n",
    "        Console.WriteLine(designer.GetInfo());\n",
    "        designer.Work();\n",
    "    "
   ]
  }
 ],
 "metadata": {
  "kernelspec": {
   "display_name": ".NET (C#)",
   "language": "C#",
   "name": ".net-csharp"
  },
  "polyglot_notebook": {
   "kernelInfo": {
    "defaultKernelName": "csharp",
    "items": [
     {
      "aliases": [],
      "languageName": "csharp",
      "name": "csharp"
     }
    ]
   }
  }
 },
 "nbformat": 4,
 "nbformat_minor": 2
}
